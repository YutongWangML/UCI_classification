{
 "cells": [
  {
   "cell_type": "code",
   "execution_count": 4,
   "metadata": {},
   "outputs": [],
   "source": [
    "import sys\n",
    "import os\n",
    "sys.path.insert(1, os.path.join(sys.path[0], '..'))"
   ]
  },
  {
   "cell_type": "code",
   "execution_count": 5,
   "metadata": {},
   "outputs": [],
   "source": [
    "import datasets"
   ]
  },
  {
   "cell_type": "code",
   "execution_count": 6,
   "metadata": {},
   "outputs": [],
   "source": [
    "import numpy as np\n",
    "from tensorflow import keras\n",
    "from tensorflow.keras import layers\n",
    "from tensorflow.keras import regularizers\n",
    "\n",
    "import tensorflow as tf\n",
    "\n",
    "from sklearn.preprocessing import StandardScaler\n",
    "\n",
    "import matplotlib.pyplot as plt\n",
    "from matplotlib.pyplot import figure\n",
    "\n",
    "from tensorflow.keras.utils import to_categorical"
   ]
  },
  {
   "cell_type": "code",
   "execution_count": 7,
   "metadata": {},
   "outputs": [],
   "source": [
    "dataset_name = \"iris\"\n",
    "DS_trn = datasets.load_trn(dataset_name)\n",
    "DS_tst = datasets.load_tst(dataset_name)\n",
    "X_train_valid = DS_trn.data\n",
    "y_train_valid = DS_trn.target\n",
    "cv_folds = DS_trn.cv_folds\n",
    "X_test = DS_tst.data\n",
    "y_test = DS_tst.target\n",
    "\n",
    "X_train_valid.shape\n",
    "num_classes = len(np.unique(y_train_valid))\n",
    "\n",
    "\n",
    "a,b = np.unique(y_train_valid,return_counts=True)\n",
    "\n",
    "\n",
    "scaler = StandardScaler().fit(X_train_valid)\n",
    "X_train_valid = scaler.transform(X_train_valid)\n",
    "X_test = scaler.transform(X_test)\n",
    "\n",
    "train,valid = cv_folds[0]\n",
    "y_train_valid = to_categorical(y_train_valid)\n",
    "\n",
    "X_train = X_train_valid[train,:]\n",
    "y_train = y_train_valid[train]\n",
    "X_valid = X_train_valid[valid,:]\n",
    "y_valid = y_train_valid[valid]"
   ]
  },
  {
   "cell_type": "code",
   "execution_count": 8,
   "metadata": {},
   "outputs": [
    {
     "name": "stdout",
     "output_type": "stream",
     "text": [
      "Accuracy at (random) initialization: 0.35135135135135137\n"
     ]
    }
   ],
   "source": [
    "C = 1e2\n",
    "gamma = 1/(2*C*X_train.shape[0])\n",
    "batch_size = X_train.shape[0]\n",
    "# batch_size = 10\n",
    "initializer = tf.keras.initializers.Zeros()\n",
    "\n",
    "inputs = keras.Input(shape=(X_train.shape[1],), name=\"features_in\")\n",
    "logits = layers.Dense(num_classes,\n",
    "                      activation = \"linear\",\n",
    "                      kernel_regularizer=regularizers.l2(gamma),\n",
    "                      kernel_initializer=initializer,\n",
    "                      use_bias=False)(inputs)\n",
    "\n",
    "\n",
    "model = keras.Model(inputs=inputs, outputs=logits)\n",
    "optimizer = keras.optimizers.SGD(learning_rate=1e-1)\n",
    "\n",
    "loss = tf.keras.losses.CategoricalCrossentropy(from_logits=True)\n",
    "accuracy = tf.keras.metrics.CategoricalAccuracy()\n",
    "\n",
    "model.compile(loss=loss, \n",
    "              optimizer=optimizer, \n",
    "              metrics=[accuracy])\n",
    "\n",
    "print(\"Accuracy at (random) initialization:\",\n",
    "      np.mean(np.argmax(model(X_test),axis=-1) == y_test))\n",
    "\n",
    "history = model.fit(X_train,\n",
    "                    y_train,\n",
    "                    epochs=300,\n",
    "                    batch_size=batch_size,\n",
    "                    validation_data=(X_valid, y_valid), \n",
    "                    validation_batch_size=X_valid.shape[0],\n",
    "                    verbose=0)"
   ]
  },
  {
   "cell_type": "code",
   "execution_count": 9,
   "metadata": {},
   "outputs": [
    {
     "data": {
      "image/png": "[encoded data removed]",
      "text/plain": [
       "<Figure size 480x160 with 2 Axes>"
      ]
     },
     "metadata": {},
     "output_type": "display_data"
    }
   ],
   "source": [
    "fig, (ax1, ax2) = plt.subplots(1,2,figsize=(6,2),dpi=80)\n",
    "\n",
    "ax1.plot(history.history['val_loss'])\n",
    "ax1.plot(history.history['loss'])\n",
    "ax1.legend([\"valid\",\"train\"])\n",
    "ax1.set_title('Loss')\n",
    "ax1.set_ylim((0,max(history.history['loss'])))\n",
    "\n",
    "ax2.plot(history.history['val_categorical_accuracy'])\n",
    "ax2.plot(history.history['categorical_accuracy'])\n",
    "ax2.legend([\"valid\",\"train\"])\n",
    "ax2.set_title('Accuracy')\n",
    "ax2.set_ylim((0,1))\n",
    "\n",
    "plt.show()"
   ]
  },
  {
   "cell_type": "code",
   "execution_count": 10,
   "metadata": {},
   "outputs": [
    {
     "name": "stdout",
     "output_type": "stream",
     "text": [
      "Test accuracy of converged model: 0.8648648648648649\n"
     ]
    }
   ],
   "source": [
    "print(\"Test accuracy of converged model:\", np.mean(np.argmax(model(X_test),axis=-1) == y_test))"
   ]
  }
 ],
 "metadata": {
  "kernelspec": {
   "display_name": "Python 3",
   "language": "python",
   "name": "python3"
  },
  "language_info": {
   "codemirror_mode": {
    "name": "ipython",
    "version": 3
   },
   "file_extension": ".py",
   "mimetype": "text/x-python",
   "name": "python",
   "nbconvert_exporter": "python",
   "pygments_lexer": "ipython3",
   "version": "3.8.8"
  }
 },
 "nbformat": 4,
 "nbformat_minor": 4
}
