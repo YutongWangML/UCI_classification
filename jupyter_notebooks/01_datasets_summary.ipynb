{
 "cells": [
  {
   "cell_type": "code",
   "execution_count": 5,
   "metadata": {},
   "outputs": [
    {
     "data": {
      "application/vnd.jupyter.widget-view+json": {
       "model_id": "3a1a01faaa024582b33a7e70d265c834",
       "version_major": 2,
       "version_minor": 0
      },
      "text/plain": [
       "QgridWidget(grid_options={'fullWidthRows': True, 'syncColumnCellResize': True, 'forceFitColumns': True, 'defau…"
      ]
     },
     "metadata": {},
     "output_type": "display_data"
    }
   ],
   "source": [
    "import pandas as pd\n",
    "pd.read_csv(\"../metadata/datasets_summary.csv\")"
   ]
  }
 ],
 "metadata": {
  "kernelspec": {
   "display_name": "Python 3",
   "language": "python",
   "name": "python3"
  },
  "language_info": {
   "codemirror_mode": {
    "name": "ipython",
    "version": 3
   },
   "file_extension": ".py",
   "mimetype": "text/x-python",
   "name": "python",
   "nbconvert_exporter": "python",
   "pygments_lexer": "ipython3",
   "version": "3.8.3"
  },
  "widgets": {
   "application/vnd.jupyter.widget-state+json": {
    "state": {
     "3a1a01faaa024582b33a7e70d265c834": {
      "model_module": "qgrid",
      "model_module_version": "^1.1.3",
      "model_name": "QgridModel",
      "state": {
       "_columns": {
        "L2_dist_est": {
         "cssClass": "number",
         "defaultSortAsc": true,
         "editable": true,
         "field": "L2_dist_est",
         "id": "L2_dist_est",
         "minWidth": 30,
         "name": "L2_dist_est",
         "position": 8,
         "resizable": true,
         "sortable": true,
         "toolTip": "",
         "type": "number"
        },
        "dataset_name": {
         "cssClass": "string",
         "defaultSortAsc": true,
         "editable": true,
         "field": "dataset_name",
         "id": "dataset_name",
         "minWidth": 30,
         "name": "dataset_name",
         "position": 2,
         "resizable": true,
         "sortable": true,
         "toolTip": "",
         "type": "string"
        },
        "index": {
         "cssClass": "integer first-idx-col idx-col",
         "defaultSortAsc": true,
         "editable": true,
         "field": "index",
         "first_index": true,
         "id": "index",
         "index_display_text": "",
         "is_index": true,
         "level": 0,
         "minWidth": 30,
         "name": "",
         "position": 0,
         "resizable": true,
         "sortable": true,
         "toolTip": "",
         "type": "integer"
        },
        "n_classes": {
         "cssClass": "integer",
         "defaultSortAsc": true,
         "editable": true,
         "field": "n_classes",
         "id": "n_classes",
         "minWidth": 30,
         "name": "n_classes",
         "position": 7,
         "resizable": true,
         "sortable": true,
         "toolTip": "",
         "type": "integer"
        },
        "n_features": {
         "cssClass": "integer",
         "defaultSortAsc": true,
         "editable": true,
         "field": "n_features",
         "id": "n_features",
         "minWidth": 30,
         "name": "n_features",
         "position": 6,
         "resizable": true,
         "sortable": true,
         "toolTip": "",
         "type": "integer"
        },
        "n_samples": {
         "cssClass": "integer",
         "defaultSortAsc": true,
         "editable": true,
         "field": "n_samples",
         "id": "n_samples",
         "minWidth": 30,
         "name": "n_samples",
         "position": 3,
         "resizable": true,
         "sortable": true,
         "toolTip": "",
         "type": "integer"
        },
        "n_test": {
         "cssClass": "integer",
         "defaultSortAsc": true,
         "editable": true,
         "field": "n_test",
         "id": "n_test",
         "minWidth": 30,
         "name": "n_test",
         "position": 5,
         "resizable": true,
         "sortable": true,
         "toolTip": "",
         "type": "integer"
        },
        "n_train": {
         "cssClass": "integer",
         "defaultSortAsc": true,
         "editable": true,
         "field": "n_train",
         "id": "n_train",
         "minWidth": 30,
         "name": "n_train",
         "position": 4,
         "resizable": true,
         "sortable": true,
         "toolTip": "",
         "type": "integer"
        },
        "qgrid_unfiltered_index": {
         "cssClass": "integer",
         "defaultSortAsc": true,
         "editable": true,
         "field": "qgrid_unfiltered_index",
         "id": "qgrid_unfiltered_index",
         "maxWidth": null,
         "minWidth": 30,
         "name": "qgrid_unfiltered_index",
         "position": 1,
         "resizable": true,
         "sortable": true,
         "toolTip": "",
         "type": "integer",
         "width": null
        }
       },
       "_df_json": "{\"schema\":{\"fields\":[{\"name\":\"index\",\"type\":\"integer\"},{\"name\":\"qgrid_unfiltered_index\",\"type\":\"integer\"},{\"name\":\"dataset_name\",\"type\":\"string\"},{\"name\":\"n_samples\",\"type\":\"integer\"},{\"name\":\"n_train\",\"type\":\"integer\"},{\"name\":\"n_test\",\"type\":\"integer\"},{\"name\":\"n_features\",\"type\":\"integer\"},{\"name\":\"n_classes\",\"type\":\"integer\"},{\"name\":\"L2_dist_est\",\"type\":\"number\"}],\"primaryKey\":[\"index\"],\"pandas_version\":\"0.20.0\"},\"data\":[{\"index\":0,\"qgrid_unfiltered_index\":0,\"dataset_name\":\"abalone\",\"n_samples\":4177,\"n_train\":3133,\"n_test\":1044,\"n_features\":8,\"n_classes\":3,\"L2_dist_est\":8.66914},{\"index\":1,\"qgrid_unfiltered_index\":1,\"dataset_name\":\"acute-inflammation\",\"n_samples\":120,\"n_train\":90,\"n_test\":30,\"n_features\":6,\"n_classes\":2,\"L2_dist_est\":12.62556},{\"index\":2,\"qgrid_unfiltered_index\":2,\"dataset_name\":\"acute-nephritis\",\"n_samples\":120,\"n_train\":90,\"n_test\":30,\"n_features\":6,\"n_classes\":2,\"L2_dist_est\":12.53748},{\"index\":3,\"qgrid_unfiltered_index\":3,\"dataset_name\":\"adult\",\"n_samples\":48842,\"n_train\":32561,\"n_test\":16281,\"n_features\":14,\"n_classes\":2,\"L2_dist_est\":23.30063},{\"index\":4,\"qgrid_unfiltered_index\":4,\"dataset_name\":\"annealing\",\"n_samples\":898,\"n_train\":798,\"n_test\":100,\"n_features\":31,\"n_classes\":5,\"L2_dist_est\":49.96753},{\"index\":5,\"qgrid_unfiltered_index\":5,\"dataset_name\":\"arrhythmia\",\"n_samples\":452,\"n_train\":339,\"n_test\":113,\"n_features\":262,\"n_classes\":13,\"L2_dist_est\":342.27019},{\"index\":6,\"qgrid_unfiltered_index\":6,\"dataset_name\":\"audiology-std\",\"n_samples\":196,\"n_train\":171,\"n_test\":25,\"n_features\":59,\"n_classes\":18,\"L2_dist_est\":88.25396},{\"index\":7,\"qgrid_unfiltered_index\":7,\"dataset_name\":\"balance-scale\",\"n_samples\":625,\"n_train\":469,\"n_test\":156,\"n_features\":4,\"n_classes\":3,\"L2_dist_est\":7.48798},{\"index\":8,\"qgrid_unfiltered_index\":8,\"dataset_name\":\"balloons\",\"n_samples\":16,\"n_train\":12,\"n_test\":4,\"n_features\":4,\"n_classes\":2,\"L2_dist_est\":7.5},{\"index\":9,\"qgrid_unfiltered_index\":9,\"dataset_name\":\"bank\",\"n_samples\":4521,\"n_train\":3391,\"n_test\":1130,\"n_features\":16,\"n_classes\":2,\"L2_dist_est\":25.81276},{\"index\":10,\"qgrid_unfiltered_index\":10,\"dataset_name\":\"blood\",\"n_samples\":748,\"n_train\":561,\"n_test\":187,\"n_features\":4,\"n_classes\":2,\"L2_dist_est\":3.87711},{\"index\":11,\"qgrid_unfiltered_index\":11,\"dataset_name\":\"breast-cancer\",\"n_samples\":286,\"n_train\":215,\"n_test\":71,\"n_features\":9,\"n_classes\":2,\"L2_dist_est\":16.30034},{\"index\":12,\"qgrid_unfiltered_index\":12,\"dataset_name\":\"breast-cancer-wisc\",\"n_samples\":699,\"n_train\":524,\"n_test\":175,\"n_features\":9,\"n_classes\":2,\"L2_dist_est\":12.9268},{\"index\":13,\"qgrid_unfiltered_index\":13,\"dataset_name\":\"breast-cancer-wisc-diag\",\"n_samples\":569,\"n_train\":427,\"n_test\":142,\"n_features\":30,\"n_classes\":2,\"L2_dist_est\":40.46534},{\"index\":14,\"qgrid_unfiltered_index\":14,\"dataset_name\":\"breast-cancer-wisc-prog\",\"n_samples\":198,\"n_train\":149,\"n_test\":49,\"n_features\":33,\"n_classes\":2,\"L2_dist_est\":54.77785},{\"index\":15,\"qgrid_unfiltered_index\":15,\"dataset_name\":\"breast-tissue\",\"n_samples\":106,\"n_train\":80,\"n_test\":26,\"n_features\":9,\"n_classes\":6,\"L2_dist_est\":10.51282},{\"index\":16,\"qgrid_unfiltered_index\":16,\"dataset_name\":\"car\",\"n_samples\":1728,\"n_train\":1296,\"n_test\":432,\"n_features\":6,\"n_classes\":4,\"L2_dist_est\":11.49333},{\"index\":17,\"qgrid_unfiltered_index\":17,\"dataset_name\":\"cardiotocography-10clases\",\"n_samples\":2126,\"n_train\":1595,\"n_test\":531,\"n_features\":21,\"n_classes\":10,\"L2_dist_est\":31.61121},{\"index\":18,\"qgrid_unfiltered_index\":18,\"dataset_name\":\"cardiotocography-3clases\",\"n_samples\":2126,\"n_train\":1595,\"n_test\":531,\"n_features\":21,\"n_classes\":3,\"L2_dist_est\":30.80095},{\"index\":19,\"qgrid_unfiltered_index\":19,\"dataset_name\":\"chess-krvk\",\"n_samples\":28056,\"n_train\":21042,\"n_test\":7014,\"n_features\":6,\"n_classes\":18,\"L2_dist_est\":11.31372},{\"index\":20,\"qgrid_unfiltered_index\":20,\"dataset_name\":\"chess-krvkp\",\"n_samples\":3196,\"n_train\":2397,\"n_test\":799,\"n_features\":36,\"n_classes\":2,\"L2_dist_est\":59.6992},{\"index\":21,\"qgrid_unfiltered_index\":21,\"dataset_name\":\"congressional-voting\",\"n_samples\":435,\"n_train\":326,\"n_test\":109,\"n_features\":16,\"n_classes\":2,\"L2_dist_est\":15.64738},{\"index\":22,\"qgrid_unfiltered_index\":22,\"dataset_name\":\"conn-bench-sonar-mines-rocks\",\"n_samples\":208,\"n_train\":156,\"n_test\":52,\"n_features\":60,\"n_classes\":2,\"L2_dist_est\":103.15077},{\"index\":23,\"qgrid_unfiltered_index\":23,\"dataset_name\":\"conn-bench-vowel-deterding\",\"n_samples\":990,\"n_train\":528,\"n_test\":462,\"n_features\":11,\"n_classes\":11,\"L2_dist_est\":20.62189},{\"index\":24,\"qgrid_unfiltered_index\":24,\"dataset_name\":\"connect-4\",\"n_samples\":67557,\"n_train\":50668,\"n_test\":16889,\"n_features\":42,\"n_classes\":2,\"L2_dist_est\":60.15171},{\"index\":25,\"qgrid_unfiltered_index\":25,\"dataset_name\":\"contrac\",\"n_samples\":1473,\"n_train\":1105,\"n_test\":368,\"n_features\":9,\"n_classes\":3,\"L2_dist_est\":15.83504},{\"index\":26,\"qgrid_unfiltered_index\":26,\"dataset_name\":\"credit-approval\",\"n_samples\":690,\"n_train\":518,\"n_test\":172,\"n_features\":15,\"n_classes\":2,\"L2_dist_est\":24.58216},{\"index\":27,\"qgrid_unfiltered_index\":27,\"dataset_name\":\"cylinder-bands\",\"n_samples\":512,\"n_train\":384,\"n_test\":128,\"n_features\":35,\"n_classes\":2,\"L2_dist_est\":49.51979},{\"index\":28,\"qgrid_unfiltered_index\":28,\"dataset_name\":\"dermatology\",\"n_samples\":366,\"n_train\":275,\"n_test\":91,\"n_features\":34,\"n_classes\":6,\"L2_dist_est\":65.25106},{\"index\":29,\"qgrid_unfiltered_index\":29,\"dataset_name\":\"echocardiogram\",\"n_samples\":131,\"n_train\":98,\"n_test\":33,\"n_features\":10,\"n_classes\":2,\"L2_dist_est\":16.28953},{\"index\":30,\"qgrid_unfiltered_index\":30,\"dataset_name\":\"ecoli\",\"n_samples\":336,\"n_train\":252,\"n_test\":84,\"n_features\":7,\"n_classes\":8,\"L2_dist_est\":9.73739},{\"index\":31,\"qgrid_unfiltered_index\":31,\"dataset_name\":\"energy-y1\",\"n_samples\":768,\"n_train\":576,\"n_test\":192,\"n_features\":8,\"n_classes\":3,\"L2_dist_est\":15.14197},{\"index\":32,\"qgrid_unfiltered_index\":32,\"dataset_name\":\"energy-y2\",\"n_samples\":768,\"n_train\":576,\"n_test\":192,\"n_features\":8,\"n_classes\":3,\"L2_dist_est\":15.10304},{\"index\":33,\"qgrid_unfiltered_index\":33,\"dataset_name\":\"fertility\",\"n_samples\":100,\"n_train\":75,\"n_test\":25,\"n_features\":9,\"n_classes\":2,\"L2_dist_est\":18.04456},{\"index\":34,\"qgrid_unfiltered_index\":34,\"dataset_name\":\"flags\",\"n_samples\":194,\"n_train\":146,\"n_test\":48,\"n_features\":28,\"n_classes\":8,\"L2_dist_est\":46.82802},{\"index\":35,\"qgrid_unfiltered_index\":35,\"dataset_name\":\"glass\",\"n_samples\":214,\"n_train\":161,\"n_test\":53,\"n_features\":9,\"n_classes\":6,\"L2_dist_est\":11.8246},{\"index\":36,\"qgrid_unfiltered_index\":36,\"dataset_name\":\"haberman-survival\",\"n_samples\":306,\"n_train\":230,\"n_test\":76,\"n_features\":3,\"n_classes\":2,\"L2_dist_est\":4.10354},{\"index\":37,\"qgrid_unfiltered_index\":37,\"dataset_name\":\"hayes-roth\",\"n_samples\":160,\"n_train\":132,\"n_test\":28,\"n_features\":3,\"n_classes\":3,\"L2_dist_est\":5.5637},{\"index\":38,\"qgrid_unfiltered_index\":38,\"dataset_name\":\"heart-cleveland\",\"n_samples\":303,\"n_train\":227,\"n_test\":76,\"n_features\":13,\"n_classes\":5,\"L2_dist_est\":24.36583},{\"index\":39,\"qgrid_unfiltered_index\":39,\"dataset_name\":\"heart-hungarian\",\"n_samples\":294,\"n_train\":221,\"n_test\":73,\"n_features\":12,\"n_classes\":2,\"L2_dist_est\":21.70262},{\"index\":40,\"qgrid_unfiltered_index\":40,\"dataset_name\":\"heart-switzerland\",\"n_samples\":123,\"n_train\":92,\"n_test\":31,\"n_features\":12,\"n_classes\":5,\"L2_dist_est\":19.30413},{\"index\":41,\"qgrid_unfiltered_index\":41,\"dataset_name\":\"heart-va\",\"n_samples\":200,\"n_train\":150,\"n_test\":50,\"n_features\":12,\"n_classes\":5,\"L2_dist_est\":22.80527},{\"index\":42,\"qgrid_unfiltered_index\":42,\"dataset_name\":\"hepatitis\",\"n_samples\":155,\"n_train\":116,\"n_test\":39,\"n_features\":19,\"n_classes\":2,\"L2_dist_est\":34.06036},{\"index\":43,\"qgrid_unfiltered_index\":43,\"dataset_name\":\"hill-valley\",\"n_samples\":1212,\"n_train\":606,\"n_test\":606,\"n_features\":100,\"n_classes\":2,\"L2_dist_est\":2.14052},{\"index\":44,\"qgrid_unfiltered_index\":44,\"dataset_name\":\"horse-colic\",\"n_samples\":368,\"n_train\":300,\"n_test\":68,\"n_features\":25,\"n_classes\":2,\"L2_dist_est\":46.63444},{\"index\":45,\"qgrid_unfiltered_index\":45,\"dataset_name\":\"ilpd-indian-liver\",\"n_samples\":583,\"n_train\":437,\"n_test\":146,\"n_features\":9,\"n_classes\":2,\"L2_dist_est\":9.56481},{\"index\":46,\"qgrid_unfiltered_index\":46,\"dataset_name\":\"image-segmentation\",\"n_samples\":2310,\"n_train\":210,\"n_test\":2100,\"n_features\":18,\"n_classes\":7,\"L2_dist_est\":23.76302},{\"index\":47,\"qgrid_unfiltered_index\":47,\"dataset_name\":\"ionosphere\",\"n_samples\":351,\"n_train\":263,\"n_test\":88,\"n_features\":33,\"n_classes\":2,\"L2_dist_est\":61.97094},{\"index\":48,\"qgrid_unfiltered_index\":48,\"dataset_name\":\"iris\",\"n_samples\":150,\"n_train\":113,\"n_test\":37,\"n_features\":4,\"n_classes\":3,\"L2_dist_est\":6.26629},{\"index\":49,\"qgrid_unfiltered_index\":49,\"dataset_name\":\"led-display\",\"n_samples\":1000,\"n_train\":750,\"n_test\":250,\"n_features\":7,\"n_classes\":10,\"L2_dist_est\":13.83614},{\"index\":50,\"qgrid_unfiltered_index\":50,\"dataset_name\":\"lenses\",\"n_samples\":24,\"n_train\":18,\"n_test\":6,\"n_features\":4,\"n_classes\":3,\"L2_dist_est\":7.66667},{\"index\":51,\"qgrid_unfiltered_index\":51,\"dataset_name\":\"letter\",\"n_samples\":20000,\"n_train\":15000,\"n_test\":5000,\"n_features\":16,\"n_classes\":26,\"L2_dist_est\":29.2119},{\"index\":52,\"qgrid_unfiltered_index\":52,\"dataset_name\":\"libras\",\"n_samples\":360,\"n_train\":270,\"n_test\":90,\"n_features\":90,\"n_classes\":15,\"L2_dist_est\":167.78058},{\"index\":53,\"qgrid_unfiltered_index\":53,\"dataset_name\":\"low-res-spect\",\"n_samples\":531,\"n_train\":398,\"n_test\":133,\"n_features\":100,\"n_classes\":9,\"L2_dist_est\":93.95027},{\"index\":54,\"qgrid_unfiltered_index\":54,\"dataset_name\":\"lung-cancer\",\"n_samples\":32,\"n_train\":24,\"n_test\":8,\"n_features\":56,\"n_classes\":3,\"L2_dist_est\":108.33618},{\"index\":55,\"qgrid_unfiltered_index\":55,\"dataset_name\":\"lymphography\",\"n_samples\":148,\"n_train\":111,\"n_test\":37,\"n_features\":18,\"n_classes\":4,\"L2_dist_est\":30.6261},{\"index\":56,\"qgrid_unfiltered_index\":56,\"dataset_name\":\"magic\",\"n_samples\":19020,\"n_train\":14265,\"n_test\":4755,\"n_features\":10,\"n_classes\":2,\"L2_dist_est\":12.23498},{\"index\":57,\"qgrid_unfiltered_index\":57,\"dataset_name\":\"mammographic\",\"n_samples\":961,\"n_train\":721,\"n_test\":240,\"n_features\":5,\"n_classes\":2,\"L2_dist_est\":7.15598},{\"index\":58,\"qgrid_unfiltered_index\":58,\"dataset_name\":\"miniboone\",\"n_samples\":130064,\"n_train\":97548,\"n_test\":32516,\"n_features\":50,\"n_classes\":2,\"L2_dist_est\":5.88653},{\"index\":59,\"qgrid_unfiltered_index\":59,\"dataset_name\":\"molec-biol-promoter\",\"n_samples\":106,\"n_train\":80,\"n_test\":26,\"n_features\":57,\"n_classes\":2,\"L2_dist_est\":113.96898},{\"index\":60,\"qgrid_unfiltered_index\":60,\"dataset_name\":\"molec-biol-splice\",\"n_samples\":3190,\"n_train\":2393,\"n_test\":797,\"n_features\":60,\"n_classes\":3,\"L2_dist_est\":118.33414},{\"index\":61,\"qgrid_unfiltered_index\":61,\"dataset_name\":\"monks-1\",\"n_samples\":556,\"n_train\":124,\"n_test\":432,\"n_features\":6,\"n_classes\":2,\"L2_dist_est\":7.07923},{\"index\":62,\"qgrid_unfiltered_index\":62,\"dataset_name\":\"monks-2\",\"n_samples\":601,\"n_train\":169,\"n_test\":432,\"n_features\":6,\"n_classes\":2,\"L2_dist_est\":6.03233},{\"index\":63,\"qgrid_unfiltered_index\":63,\"dataset_name\":\"monks-3\",\"n_samples\":554,\"n_train\":122,\"n_test\":432,\"n_features\":6,\"n_classes\":2,\"L2_dist_est\":7.41021},{\"index\":64,\"qgrid_unfiltered_index\":64,\"dataset_name\":\"mushroom\",\"n_samples\":8124,\"n_train\":6093,\"n_test\":2031,\"n_features\":21,\"n_classes\":2,\"L2_dist_est\":38.53869},{\"index\":65,\"qgrid_unfiltered_index\":65,\"dataset_name\":\"musk-1\",\"n_samples\":476,\"n_train\":357,\"n_test\":119,\"n_features\":166,\"n_classes\":2,\"L2_dist_est\":329.52656},{\"index\":66,\"qgrid_unfiltered_index\":66,\"dataset_name\":\"musk-2\",\"n_samples\":6598,\"n_train\":4949,\"n_test\":1649,\"n_features\":166,\"n_classes\":2,\"L2_dist_est\":348.14177},{\"index\":67,\"qgrid_unfiltered_index\":67,\"dataset_name\":\"nursery\",\"n_samples\":12960,\"n_train\":9720,\"n_test\":3240,\"n_features\":8,\"n_classes\":5,\"L2_dist_est\":15.58449},{\"index\":68,\"qgrid_unfiltered_index\":68,\"dataset_name\":\"oocytes-merluccius-nucleus-4d\",\"n_samples\":1022,\"n_train\":767,\"n_test\":255,\"n_features\":41,\"n_classes\":2,\"L2_dist_est\":50.73695},{\"index\":69,\"qgrid_unfiltered_index\":69,\"dataset_name\":\"oocytes-merluccius-states-2f\",\"n_samples\":1022,\"n_train\":767,\"n_test\":255,\"n_features\":25,\"n_classes\":3,\"L2_dist_est\":36.32447},{\"index\":70,\"qgrid_unfiltered_index\":70,\"dataset_name\":\"oocytes-trisopterus-nucleus-2f\",\"n_samples\":912,\"n_train\":684,\"n_test\":228,\"n_features\":25,\"n_classes\":2,\"L2_dist_est\":37.55318},{\"index\":71,\"qgrid_unfiltered_index\":71,\"dataset_name\":\"oocytes-trisopterus-states-5b\",\"n_samples\":912,\"n_train\":684,\"n_test\":228,\"n_features\":32,\"n_classes\":3,\"L2_dist_est\":38.18785},{\"index\":72,\"qgrid_unfiltered_index\":72,\"dataset_name\":\"optical\",\"n_samples\":5620,\"n_train\":3823,\"n_test\":1797,\"n_features\":62,\"n_classes\":10,\"L2_dist_est\":95.74878},{\"index\":73,\"qgrid_unfiltered_index\":73,\"dataset_name\":\"ozone\",\"n_samples\":2536,\"n_train\":1902,\"n_test\":634,\"n_features\":72,\"n_classes\":2,\"L2_dist_est\":119.54863},{\"index\":74,\"qgrid_unfiltered_index\":74,\"dataset_name\":\"page-blocks\",\"n_samples\":5473,\"n_train\":4105,\"n_test\":1368,\"n_features\":10,\"n_classes\":5,\"L2_dist_est\":4.41874},{\"index\":75,\"qgrid_unfiltered_index\":75,\"dataset_name\":\"parkinsons\",\"n_samples\":195,\"n_train\":146,\"n_test\":49,\"n_features\":22,\"n_classes\":2,\"L2_dist_est\":25.53249},{\"index\":76,\"qgrid_unfiltered_index\":76,\"dataset_name\":\"pendigits\",\"n_samples\":10992,\"n_train\":7494,\"n_test\":3498,\"n_features\":16,\"n_classes\":10,\"L2_dist_est\":30.38802},{\"index\":77,\"qgrid_unfiltered_index\":77,\"dataset_name\":\"pima\",\"n_samples\":768,\"n_train\":576,\"n_test\":192,\"n_features\":8,\"n_classes\":2,\"L2_dist_est\":13.26824},{\"index\":78,\"qgrid_unfiltered_index\":78,\"dataset_name\":\"pittsburg-bridges-MATERIAL\",\"n_samples\":106,\"n_train\":80,\"n_test\":26,\"n_features\":7,\"n_classes\":3,\"L2_dist_est\":12.77931},{\"index\":79,\"qgrid_unfiltered_index\":79,\"dataset_name\":\"pittsburg-bridges-REL-L\",\"n_samples\":103,\"n_train\":77,\"n_test\":26,\"n_features\":7,\"n_classes\":3,\"L2_dist_est\":12.8898},{\"index\":80,\"qgrid_unfiltered_index\":80,\"dataset_name\":\"pittsburg-bridges-SPAN\",\"n_samples\":92,\"n_train\":69,\"n_test\":23,\"n_features\":7,\"n_classes\":3,\"L2_dist_est\":13.00066},{\"index\":81,\"qgrid_unfiltered_index\":81,\"dataset_name\":\"pittsburg-bridges-T-OR-D\",\"n_samples\":102,\"n_train\":77,\"n_test\":25,\"n_features\":7,\"n_classes\":2,\"L2_dist_est\":12.73815},{\"index\":82,\"qgrid_unfiltered_index\":82,\"dataset_name\":\"pittsburg-bridges-TYPE\",\"n_samples\":105,\"n_train\":79,\"n_test\":26,\"n_features\":7,\"n_classes\":6,\"L2_dist_est\":13.1555},{\"index\":83,\"qgrid_unfiltered_index\":83,\"dataset_name\":\"planning\",\"n_samples\":182,\"n_train\":137,\"n_test\":45,\"n_features\":12,\"n_classes\":2,\"L2_dist_est\":20.69263},{\"index\":84,\"qgrid_unfiltered_index\":84,\"dataset_name\":\"plant-margin\",\"n_samples\":1600,\"n_train\":1200,\"n_test\":400,\"n_features\":64,\"n_classes\":100,\"L2_dist_est\":112.95437},{\"index\":85,\"qgrid_unfiltered_index\":85,\"dataset_name\":\"plant-shape\",\"n_samples\":1600,\"n_train\":1200,\"n_test\":400,\"n_features\":64,\"n_classes\":100,\"L2_dist_est\":62.13891},{\"index\":86,\"qgrid_unfiltered_index\":86,\"dataset_name\":\"plant-texture\",\"n_samples\":1599,\"n_train\":1199,\"n_test\":400,\"n_features\":64,\"n_classes\":100,\"L2_dist_est\":116.71326},{\"index\":87,\"qgrid_unfiltered_index\":87,\"dataset_name\":\"post-operative\",\"n_samples\":90,\"n_train\":68,\"n_test\":22,\"n_features\":8,\"n_classes\":3,\"L2_dist_est\":14.63679},{\"index\":88,\"qgrid_unfiltered_index\":88,\"dataset_name\":\"primary-tumor\",\"n_samples\":330,\"n_train\":248,\"n_test\":82,\"n_features\":17,\"n_classes\":15,\"L2_dist_est\":30.66523},{\"index\":89,\"qgrid_unfiltered_index\":89,\"dataset_name\":\"ringnorm\",\"n_samples\":7400,\"n_train\":5550,\"n_test\":1850,\"n_features\":20,\"n_classes\":2,\"L2_dist_est\":39.81049},{\"index\":90,\"qgrid_unfiltered_index\":90,\"dataset_name\":\"seeds\",\"n_samples\":210,\"n_train\":158,\"n_test\":52,\"n_features\":7,\"n_classes\":3,\"L2_dist_est\":10.11986},{\"index\":91,\"qgrid_unfiltered_index\":91,\"dataset_name\":\"semeion\",\"n_samples\":1593,\"n_train\":1195,\"n_test\":398,\"n_features\":256,\"n_classes\":10,\"L2_dist_est\":516.92697},{\"index\":92,\"qgrid_unfiltered_index\":92,\"dataset_name\":\"soybean\",\"n_samples\":683,\"n_train\":307,\"n_test\":376,\"n_features\":35,\"n_classes\":18,\"L2_dist_est\":64.72812},{\"index\":93,\"qgrid_unfiltered_index\":93,\"dataset_name\":\"spambase\",\"n_samples\":4601,\"n_train\":3451,\"n_test\":1150,\"n_features\":57,\"n_classes\":2,\"L2_dist_est\":57.37249},{\"index\":94,\"qgrid_unfiltered_index\":94,\"dataset_name\":\"spect\",\"n_samples\":265,\"n_train\":79,\"n_test\":186,\"n_features\":22,\"n_classes\":2,\"L2_dist_est\":39.55954},{\"index\":95,\"qgrid_unfiltered_index\":95,\"dataset_name\":\"spectf\",\"n_samples\":267,\"n_train\":80,\"n_test\":187,\"n_features\":44,\"n_classes\":2,\"L2_dist_est\":2.98577},{\"index\":96,\"qgrid_unfiltered_index\":96,\"dataset_name\":\"statlog-australian-credit\",\"n_samples\":690,\"n_train\":518,\"n_test\":172,\"n_features\":14,\"n_classes\":2,\"L2_dist_est\":23.24018},{\"index\":97,\"qgrid_unfiltered_index\":97,\"dataset_name\":\"statlog-german-credit\",\"n_samples\":1000,\"n_train\":750,\"n_test\":250,\"n_features\":24,\"n_classes\":2,\"L2_dist_est\":42.95363},{\"index\":98,\"qgrid_unfiltered_index\":98,\"dataset_name\":\"statlog-heart\",\"n_samples\":270,\"n_train\":203,\"n_test\":67,\"n_features\":13,\"n_classes\":2,\"L2_dist_est\":24.86969},{\"index\":99,\"qgrid_unfiltered_index\":99,\"dataset_name\":\"statlog-image\",\"n_samples\":2310,\"n_train\":1733,\"n_test\":577,\"n_features\":18,\"n_classes\":7,\"L2_dist_est\":24.85079}]}",
       "_df_range": [
        0,
        100
       ],
       "_editable_rows": {},
       "_index_col_name": "qgrid_unfiltered_index",
       "_interval_columns": [],
       "_model_module_version": "^1.1.3",
       "_multi_index": false,
       "_row_count": 121,
       "_row_styles": {},
       "_sort_ascending": true,
       "_sort_field": null,
       "_view_module_version": "^1.1.3",
       "_viewport_range": [
        0,
        100
       ],
       "grid_options": {
        "autoEdit": false,
        "boldIndex": true,
        "defaultColumnWidth": 150,
        "editable": true,
        "enableColumnReorder": false,
        "enableTextSelectionOnCells": true,
        "explicitInitialization": true,
        "filterable": true,
        "forceFitColumns": true,
        "fullWidthRows": true,
        "highlightSelectedCell": false,
        "highlightSelectedRow": true,
        "maxVisibleRows": 15,
        "minVisibleRows": 8,
        "rowHeight": 28,
        "sortable": true,
        "syncColumnCellResize": true
       },
       "id": "0dcdf2c0-3b61-4995-a1a8-84261cf9a716",
       "layout": "IPY_MODEL_c52c0fa297c146a0921d1738150e358f",
       "precision": 5,
       "show_toolbar": false
      }
     },
     "c52c0fa297c146a0921d1738150e358f": {
      "model_module": "@jupyter-widgets/base",
      "model_module_version": "1.2.0",
      "model_name": "LayoutModel",
      "state": {}
     }
    },
    "version_major": 2,
    "version_minor": 0
   }
  }
 },
 "nbformat": 4,
 "nbformat_minor": 4
}
